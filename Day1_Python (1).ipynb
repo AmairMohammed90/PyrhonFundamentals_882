{
 "cells": [
  {
   "cell_type": "raw",
   "id": "3cf78843",
   "metadata": {},
   "source": [
    "print(\"Hello All Welcome to the phython\")"
   ]
  },
  {
   "cell_type": "code",
   "execution_count": 2,
   "id": "e3d82478",
   "metadata": {},
   "outputs": [
    {
     "name": "stdout",
     "output_type": "stream",
     "text": [
      "Hello All Welcome to the phython\n"
     ]
    }
   ],
   "source": [
    "print(\"Hello All Welcome to the phython\")"
   ]
  },
  {
   "cell_type": "code",
   "execution_count": null,
   "id": "701143af",
   "metadata": {},
   "outputs": [],
   "source": [
    "Rules for declaring the Variables:\n",
    "    Rule No 1 : No NameSpaces while declarign the variables Name\n",
    "    "
   ]
  },
  {
   "cell_type": "code",
   "execution_count": 3,
   "id": "3b859a2b",
   "metadata": {},
   "outputs": [
    {
     "ename": "SyntaxError",
     "evalue": "invalid syntax (1578718423.py, line 1)",
     "output_type": "error",
     "traceback": [
      "\u001b[1;36m  Cell \u001b[1;32mIn[3], line 1\u001b[1;36m\u001b[0m\n\u001b[1;33m    first Name = 'Faiyaz'\u001b[0m\n\u001b[1;37m          ^\u001b[0m\n\u001b[1;31mSyntaxError\u001b[0m\u001b[1;31m:\u001b[0m invalid syntax\n"
     ]
    }
   ],
   "source": [
    "first Name = 'Faiyaz'"
   ]
  },
  {
   "cell_type": "code",
   "execution_count": 6,
   "id": "db5929d2",
   "metadata": {},
   "outputs": [
    {
     "name": "stdout",
     "output_type": "stream",
     "text": [
      "faiyaz\n"
     ]
    }
   ],
   "source": [
    "firstname = 'faiyaz'\n",
    "print(firstname)"
   ]
  },
  {
   "cell_type": "code",
   "execution_count": 7,
   "id": "88c468a4",
   "metadata": {},
   "outputs": [
    {
     "ename": "SyntaxError",
     "evalue": "invalid syntax (3438985105.py, line 1)",
     "output_type": "error",
     "traceback": [
      "\u001b[1;36m  Cell \u001b[1;32mIn[7], line 1\u001b[1;36m\u001b[0m\n\u001b[1;33m    Rule No 2 : A variable name should not start with Number\u001b[0m\n\u001b[1;37m         ^\u001b[0m\n\u001b[1;31mSyntaxError\u001b[0m\u001b[1;31m:\u001b[0m invalid syntax\n"
     ]
    }
   ],
   "source": [
    "Rule No 2 : A variable name should not start with Number"
   ]
  },
  {
   "cell_type": "code",
   "execution_count": 11,
   "id": "96872b79",
   "metadata": {},
   "outputs": [
    {
     "ename": "SyntaxError",
     "evalue": "invalid decimal literal (1491449476.py, line 1)",
     "output_type": "error",
     "traceback": [
      "\u001b[1;36m  Cell \u001b[1;32mIn[11], line 1\u001b[1;36m\u001b[0m\n\u001b[1;33m    1Name = 'abc'\u001b[0m\n\u001b[1;37m    ^\u001b[0m\n\u001b[1;31mSyntaxError\u001b[0m\u001b[1;31m:\u001b[0m invalid decimal literal\n"
     ]
    }
   ],
   "source": [
    "1Name = 'abc'\n",
    "print (1Name)"
   ]
  },
  {
   "cell_type": "code",
   "execution_count": 12,
   "id": "65fbe676",
   "metadata": {},
   "outputs": [
    {
     "name": "stdout",
     "output_type": "stream",
     "text": [
      "ABC\n"
     ]
    }
   ],
   "source": [
    "Name1 = 'ABC'\n",
    "\n",
    "print (Name1)"
   ]
  },
  {
   "cell_type": "code",
   "execution_count": 13,
   "id": "3dba9755",
   "metadata": {},
   "outputs": [
    {
     "ename": "SyntaxError",
     "evalue": "invalid syntax (1705386183.py, line 1)",
     "output_type": "error",
     "traceback": [
      "\u001b[1;36m  Cell \u001b[1;32mIn[13], line 1\u001b[1;36m\u001b[0m\n\u001b[1;33m    Rule No 3 : A variable name should not contain Special Character\u001b[0m\n\u001b[1;37m         ^\u001b[0m\n\u001b[1;31mSyntaxError\u001b[0m\u001b[1;31m:\u001b[0m invalid syntax\n"
     ]
    }
   ],
   "source": [
    "Rule No 3 : A variable name should not contain Special Character"
   ]
  },
  {
   "cell_type": "code",
   "execution_count": 23,
   "id": "5a32bec3",
   "metadata": {},
   "outputs": [
    {
     "ename": "SyntaxError",
     "evalue": "incomplete input (3650668291.py, line 3)",
     "output_type": "error",
     "traceback": [
      "\u001b[1;36m  Cell \u001b[1;32mIn[23], line 3\u001b[1;36m\u001b[0m\n\u001b[1;33m    print ( name# )\u001b[0m\n\u001b[1;37m                   ^\u001b[0m\n\u001b[1;31mSyntaxError\u001b[0m\u001b[1;31m:\u001b[0m incomplete input\n"
     ]
    }
   ],
   "source": [
    "name# = 'sdjfh'\n",
    "\n",
    "print ( name# )"
   ]
  },
  {
   "cell_type": "code",
   "execution_count": 18,
   "id": "20d8892e",
   "metadata": {},
   "outputs": [
    {
     "ename": "SyntaxError",
     "evalue": "invalid decimal literal (3786039477.py, line 3)",
     "output_type": "error",
     "traceback": [
      "\u001b[1;36m  Cell \u001b[1;32mIn[18], line 3\u001b[1;36m\u001b[0m\n\u001b[1;33m    1.String ===> str\u001b[0m\n\u001b[1;37m     ^\u001b[0m\n\u001b[1;31mSyntaxError\u001b[0m\u001b[1;31m:\u001b[0m invalid decimal literal\n"
     ]
    }
   ],
   "source": [
    "Introduction to DataTypes:\n",
    "    \n",
    "    1.String ===> str\n",
    "    2.Number ===> int\n",
    "    3.Floats (decimals) ===>0.1, 0.2 ===> float\n",
    "    4. Lists ===> list\n",
    "    5. tuples ==> tuple\n",
    "    6. Dictionaries ==> dict\n",
    "    \n",
    "    Classification of Datatypes : \n",
    "        1.Mutable datatypes ===> which can be editable / alter ===> flexible in nature\n",
    "        2.ImMutable datatypes ===> which can not be editable / alter ===> fixed in nature\n",
    "    "
   ]
  },
  {
   "cell_type": "code",
   "execution_count": null,
   "id": "48ed0374",
   "metadata": {},
   "outputs": [],
   "source": [
    "intrucduction to String Data Type :\n",
    "    \n",
    "    \n",
    "    Defination : String is nothing but a series of characters declared in quotes\n",
    "        \n",
    "        classification : it is a ImMutable datatypes\n",
    "            \n",
    "            Defining in single quote / double quote\n",
    "            \n",
    "            example : a = 'defgh'"
   ]
  },
  {
   "cell_type": "code",
   "execution_count": 19,
   "id": "80f387fd",
   "metadata": {},
   "outputs": [
    {
     "name": "stdout",
     "output_type": "stream",
     "text": [
      "defgh\n"
     ]
    }
   ],
   "source": [
    "a = 'defgh'  #singleQoute\n",
    "\n",
    "print (a)"
   ]
  },
  {
   "cell_type": "code",
   "execution_count": 21,
   "id": "80352743",
   "metadata": {},
   "outputs": [
    {
     "name": "stdout",
     "output_type": "stream",
     "text": [
      "double\n"
     ]
    }
   ],
   "source": [
    "G = \"double\"  #DoubleQuote\n",
    "\n",
    "print (G)"
   ]
  },
  {
   "cell_type": "code",
   "execution_count": null,
   "id": "783ef437",
   "metadata": {},
   "outputs": [],
   "source": [
    "Comments need to declare with #. "
   ]
  },
  {
   "cell_type": "code",
   "execution_count": null,
   "id": "ef502c72",
   "metadata": {},
   "outputs": [],
   "source": []
  },
  {
   "cell_type": "code",
   "execution_count": null,
   "id": "c81935db",
   "metadata": {},
   "outputs": [],
   "source": []
  },
  {
   "cell_type": "code",
   "execution_count": null,
   "id": "554c66a4",
   "metadata": {},
   "outputs": [],
   "source": []
  },
  {
   "cell_type": "code",
   "execution_count": null,
   "id": "3810dc83",
   "metadata": {},
   "outputs": [],
   "source": []
  },
  {
   "cell_type": "code",
   "execution_count": null,
   "id": "3cc8197a",
   "metadata": {},
   "outputs": [],
   "source": []
  },
  {
   "cell_type": "code",
   "execution_count": null,
   "id": "cc896c6a",
   "metadata": {},
   "outputs": [],
   "source": []
  },
  {
   "cell_type": "code",
   "execution_count": null,
   "id": "a66f4578",
   "metadata": {},
   "outputs": [],
   "source": []
  }
 ],
 "metadata": {
  "kernelspec": {
   "display_name": "Python 3 (ipykernel)",
   "language": "python",
   "name": "python3"
  },
  "language_info": {
   "codemirror_mode": {
    "name": "ipython",
    "version": 3
   },
   "file_extension": ".py",
   "mimetype": "text/x-python",
   "name": "python",
   "nbconvert_exporter": "python",
   "pygments_lexer": "ipython3",
   "version": "3.11.4"
  }
 },
 "nbformat": 4,
 "nbformat_minor": 5
}
