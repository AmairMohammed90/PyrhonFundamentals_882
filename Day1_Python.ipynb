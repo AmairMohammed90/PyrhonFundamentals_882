{
 "cells": [
  {
   "cell_type": "raw",
   "id": "3cf78843",
   "metadata": {},
   "source": [
    "print(\"Hello All Welcome to the phython\")"
   ]
  },
  {
   "cell_type": "code",
   "execution_count": 2,
   "id": "e3d82478",
   "metadata": {},
   "outputs": [
    {
     "name": "stdout",
     "output_type": "stream",
     "text": [
      "Hello All Welcome to the phython\n"
     ]
    }
   ],
   "source": [
    "print(\"Hello All Welcome to the phython\")"
   ]
  },
  {
   "cell_type": "code",
   "execution_count": null,
   "id": "701143af",
   "metadata": {},
   "outputs": [],
   "source": []
  },
  {
   "cell_type": "code",
   "execution_count": null,
   "id": "3b859a2b",
   "metadata": {},
   "outputs": [],
   "source": []
  }
 ],
 "metadata": {
  "kernelspec": {
   "display_name": "Python 3 (ipykernel)",
   "language": "python",
   "name": "python3"
  },
  "language_info": {
   "codemirror_mode": {
    "name": "ipython",
    "version": 3
   },
   "file_extension": ".py",
   "mimetype": "text/x-python",
   "name": "python",
   "nbconvert_exporter": "python",
   "pygments_lexer": "ipython3",
   "version": "3.11.4"
  }
 },
 "nbformat": 4,
 "nbformat_minor": 5
}
